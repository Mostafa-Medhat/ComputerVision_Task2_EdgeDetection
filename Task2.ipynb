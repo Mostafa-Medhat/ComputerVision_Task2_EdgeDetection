{
 "cells": [
  {
   "cell_type": "code",
   "execution_count": null,
   "metadata": {},
   "outputs": [],
   "source": [
    "from matplotlib import pyplot as plt\n",
    "from math import sqrt\n",
    "from skimage.color import rgb2gray\n",
    "from skimage.io import imread\n",
    "import cv2\n",
    "import numpy as np\n",
    "from scipy import fftpack, ndimage"
   ]
  },
  {
   "cell_type": "code",
   "execution_count": null,
   "metadata": {},
   "outputs": [],
   "source": [
    "import numpy as np\n",
    "import cv2\n",
    "import argparse\n",
    "import matplotlib.pyplot as plt\n",
    "from convolution import convolution\n",
    "from gaussian_smoothing import gaussian_blur\n",
    "\n",
    "def sobel_edge_detection(image, filter, verbose=False):\n",
    "    new_image_x = convolution(image, filter, verbose)\n",
    "\n",
    "    if verbose:\n",
    "        plt.imshow(new_image_x, cmap='gray')\n",
    "        plt.title(\"Horizontal Edge\")\n",
    "        plt.show()\n",
    "\n",
    "    new_image_y = convolution(image, np.flip(filter.T, axis=0), verbose)\n",
    "\n",
    "    if verbose:\n",
    "        plt.imshow(new_image_y, cmap='gray')\n",
    "        plt.title(\"Vertical Edge\")\n",
    "        plt.show()\n",
    "\n",
    "    gradient_magnitude = np.sqrt(np.square(new_image_x) + np.square(new_image_y))\n",
    "\n",
    "    gradient_magnitude *= 255.0 / gradient_magnitude.max()\n",
    "\n",
    "    if verbose:\n",
    "        plt.imshow(gradient_magnitude, cmap='gray')\n",
    "        plt.title(\"Gradient Magnitude\")\n",
    "        plt.show()\n",
    "\n",
    "    return gradient_magnitude\n",
    "\n",
    "\n",
    "filter = np.array([[-1, 0, 1], [-2, 0, 2], [-1, 0, 1]])\n",
    "\n",
    "image = cv2.imread(\"Sobel_Edge_Detection\\images\\lena.png\")\n",
    "image = gaussian_blur(image, 9, verbose=True)\n",
    "sobel_edge_detection(image, filter, verbose=True)\n"
   ]
  }
 ],
 "metadata": {
  "language_info": {
   "name": "python"
  },
  "orig_nbformat": 4
 },
 "nbformat": 4,
 "nbformat_minor": 2
}
